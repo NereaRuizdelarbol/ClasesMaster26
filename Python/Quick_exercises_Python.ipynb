{
 "cells": [
  {
   "cell_type": "markdown",
   "metadata": {},
   "source": [
    "# Exercise 1"
   ]
  },
  {
   "cell_type": "markdown",
   "metadata": {},
   "source": [
    "1. Implement a function that takes as input three variables, and returns the largest of the three. Do\n",
    "this without using the Python max() function! Make one version without any local variable and\n",
    "another with one local variable. (hint: it might be easier to use edit)\n",
    "\n",
    "2. Write a function “centenario” that will take Name, and year of birth as inputs, check if year of birth\n",
    "is int and cast it to int if not, and print name together with the text explaining when the person is to\n",
    "have 100 years (hint: use isinstance)\n",
    "\n",
    "call to function: centenario(Antonio, 1967)\n",
    "\n",
    "output: Antonio will reach 100 years in 2067.\n",
    "\n"
   ]
  },
  {
   "cell_type": "markdown",
   "metadata": {},
   "source": [
    "# 1"
   ]
  },
  {
   "cell_type": "code",
   "execution_count": 3,
   "metadata": {},
   "outputs": [
    {
     "data": {
      "text/plain": [
       "25"
      ]
     },
     "execution_count": 3,
     "metadata": {},
     "output_type": "execute_result"
    }
   ],
   "source": [
    "def maximum(a,b,c):\n",
    "    '''\n",
    "    Returns the largest value of three no local variables\n",
    "    '''\n",
    "    if a > b and a > c:\n",
    "        return a\n",
    "    if b > a and b > c :\n",
    "        return b\n",
    "    if c > a and c > b:\n",
    "        return c\n",
    "    \n",
    "maximum (14,25,3)\n",
    "  "
   ]
  },
  {
   "cell_type": "code",
   "execution_count": null,
   "metadata": {},
   "outputs": [],
   "source": [
    "def max_of_three(a,b,c):\n",
    "    '''\n",
    "    Returns the largest value of three no local variables\n",
    "    '''\n",
    "    if a > b:\n",
    "        if a > c:\n",
    "            return a\n",
    "        else:\n",
    "            return c\n",
    "    else:\n",
    "        if b > c:\n",
    "            return b\n",
    "        else:\n",
    "            return c\n",
    "    \n",
    "maximum (14,25,3)"
   ]
  },
  {
   "cell_type": "code",
   "execution_count": null,
   "metadata": {},
   "outputs": [],
   "source": [
    "def max_of_three (a, b, c):\n",
    "    max_var=a\n",
    "    if max_var<b:\n",
    "        max_var=b\n",
    "    if max_var<c:\n",
    "        max_var=c\n",
    "    return max_var"
   ]
  },
  {
   "cell_type": "code",
   "execution_count": 6,
   "metadata": {},
   "outputs": [
    {
     "data": {
      "text/plain": [
       "25"
      ]
     },
     "execution_count": 6,
     "metadata": {},
     "output_type": "execute_result"
    }
   ],
   "source": [
    "def maximum_local(a,b,c=3):\n",
    "    '''\n",
    "    Returns the largest value of three numbers with one local variables\n",
    "    '''\n",
    "    if a > b and a > c:\n",
    "        return a\n",
    "    if b > a and b > c :\n",
    "        return b\n",
    "    if c > a and c > b:\n",
    "        return c\n",
    "    \n",
    "maximum_local (1,25)"
   ]
  },
  {
   "cell_type": "markdown",
   "metadata": {},
   "source": [
    "# 2"
   ]
  },
  {
   "cell_type": "code",
   "execution_count": 98,
   "metadata": {},
   "outputs": [
    {
     "name": "stdout",
     "output_type": "stream",
     "text": [
      "Antonio will reach 100 years in 2067\n"
     ]
    }
   ],
   "source": [
    "def centenario(name, year):\n",
    "    '''\n",
    "    check if year of birth is int and return when the person is to have 100 years\n",
    "    \n",
    "    '''\n",
    "    if isinstance(year,int):\n",
    "        year += 100\n",
    "        \n",
    "    print (\"%s will reach 100 years in %d\" %(name,year))\n",
    "    return\n",
    "\n",
    "centenario('Antonio', 1967)"
   ]
  },
  {
   "cell_type": "code",
   "execution_count": 87,
   "metadata": {},
   "outputs": [
    {
     "name": "stdout",
     "output_type": "stream",
     "text": [
      "Antonio will reach 100 years in 2067\n"
     ]
    }
   ],
   "source": [
    "def centenario(nombre, year):\n",
    "    \n",
    "    if not isinstance(year, int):\n",
    "        year=int(year)\n",
    "    print (\"%s will reach 100 years in %d\" %(nombre, year+100))\n",
    "    return\n",
    "\n",
    "centenario('Antonio',1967)"
   ]
  },
  {
   "cell_type": "code",
   "execution_count": null,
   "metadata": {},
   "outputs": [],
   "source": []
  },
  {
   "cell_type": "markdown",
   "metadata": {},
   "source": [
    "# Exercise 2"
   ]
  },
  {
   "cell_type": "markdown",
   "metadata": {},
   "source": [
    "1.Write a function to calculate the number of words, number of lines, and length of a string the same way the wccommand does in the command line\n",
    "\n",
    "2.Write a Python program to remove the nth index character from a string. If the input string is empty print warning"
   ]
  },
  {
   "cell_type": "markdown",
   "metadata": {},
   "source": [
    "# 1"
   ]
  },
  {
   "cell_type": "code",
   "execution_count": 59,
   "metadata": {},
   "outputs": [
    {
     "data": {
      "text/plain": [
       "(4, 18, 1)"
      ]
     },
     "execution_count": 59,
     "metadata": {},
     "output_type": "execute_result"
    }
   ],
   "source": [
    "def wc(texto):\n",
    "    \n",
    "    words = len(texto.split())\n",
    "    length = len(texto)\n",
    "    lines = len(texto.split(\"\\n\"))\n",
    "    return words, length, lines\n",
    "\n",
    "wc(\"hola que tal estas\")"
   ]
  },
  {
   "cell_type": "code",
   "execution_count": 64,
   "metadata": {},
   "outputs": [
    {
     "data": {
      "text/plain": [
       "(4, 18, 1)"
      ]
     },
     "execution_count": 64,
     "metadata": {},
     "output_type": "execute_result"
    }
   ],
   "source": [
    "def wc_2(x):\n",
    "    chars= 0\n",
    "    for char in str1:\n",
    "        chars+= 1\n",
    "        words=len(x.split(\"\"))\n",
    "        lines=len(x.split(\"\\n\"))\n",
    "        return (lines, words, chars)\n",
    "    \n",
    "wc(\"hola que tal estas\")"
   ]
  },
  {
   "cell_type": "markdown",
   "metadata": {},
   "source": [
    "# 2"
   ]
  },
  {
   "cell_type": "code",
   "execution_count": 124,
   "metadata": {},
   "outputs": [
    {
     "data": {
      "text/plain": [
       "[]"
      ]
     },
     "execution_count": 124,
     "metadata": {},
     "output_type": "execute_result"
    }
   ],
   "source": [
    "def remove(n, texto):\n",
    "    a = texto.split()\n",
    "    uno= a[:n] \n",
    "    dos = a[n+1:]\n",
    "    return uno + dos\n",
    "    \n",
    "\n",
    "remove(0, \"casa\")"
   ]
  },
  {
   "cell_type": "code",
   "execution_count": 126,
   "metadata": {},
   "outputs": [
    {
     "ename": "TypeError",
     "evalue": "unsupported operand type(s) for -: 'str' and 'str'",
     "output_type": "error",
     "traceback": [
      "\u001b[0;31m---------------------------------------------------------------------------\u001b[0m",
      "\u001b[0;31mTypeError\u001b[0m                                 Traceback (most recent call last)",
      "\u001b[0;32m<ipython-input-126-41b4bdf6a89d>\u001b[0m in \u001b[0;36m<module>\u001b[0;34m\u001b[0m\n\u001b[1;32m      8\u001b[0m \u001b[0;34m\u001b[0m\u001b[0m\n\u001b[1;32m      9\u001b[0m \u001b[0;34m\u001b[0m\u001b[0m\n\u001b[0;32m---> 10\u001b[0;31m \u001b[0mremove\u001b[0m\u001b[0;34m(\u001b[0m\u001b[0;36m0\u001b[0m\u001b[0;34m,\u001b[0m \u001b[0;34m\"casa\"\u001b[0m\u001b[0;34m)\u001b[0m\u001b[0;34m\u001b[0m\u001b[0;34m\u001b[0m\u001b[0m\n\u001b[0m",
      "\u001b[0;32m<ipython-input-126-41b4bdf6a89d>\u001b[0m in \u001b[0;36mremove\u001b[0;34m(n, texto)\u001b[0m\n\u001b[1;32m      5\u001b[0m \u001b[0;34m\u001b[0m\u001b[0m\n\u001b[1;32m      6\u001b[0m \u001b[0;34m\u001b[0m\u001b[0m\n\u001b[0;32m----> 7\u001b[0;31m     \u001b[0;32mreturn\u001b[0m \u001b[0ma\u001b[0m \u001b[0;34m-\u001b[0m \u001b[0mb\u001b[0m\u001b[0;34m\u001b[0m\u001b[0;34m\u001b[0m\u001b[0m\n\u001b[0m\u001b[1;32m      8\u001b[0m \u001b[0;34m\u001b[0m\u001b[0m\n\u001b[1;32m      9\u001b[0m \u001b[0;34m\u001b[0m\u001b[0m\n",
      "\u001b[0;31mTypeError\u001b[0m: unsupported operand type(s) for -: 'str' and 'str'"
     ]
    }
   ],
   "source": [
    "def remove(n, texto):\n",
    "    \n",
    "    a= texto\n",
    "    b = texto[n]\n",
    "   \n",
    "    \n",
    "    return a - b\n",
    "    \n",
    "\n",
    "remove(0, \"casa\")"
   ]
  },
  {
   "cell_type": "code",
   "execution_count": 123,
   "metadata": {},
   "outputs": [
    {
     "data": {
      "text/plain": [
       "'ola que tal estas'"
      ]
     },
     "execution_count": 123,
     "metadata": {},
     "output_type": "execute_result"
    }
   ],
   "source": [
    "def remove_char(str, n):\n",
    "    if not str:\n",
    "        print (\"String is empty\")\n",
    "        return\n",
    "    else:\n",
    "        first_part= str[:n] \n",
    "        last_part= str[n+1:]\n",
    "        return first_part+ last_part\n",
    "    \n",
    "remove_char(\"hola que tal estas\", 0)"
   ]
  },
  {
   "cell_type": "code",
   "execution_count": null,
   "metadata": {},
   "outputs": [],
   "source": []
  },
  {
   "cell_type": "markdown",
   "metadata": {},
   "source": [
    "# Exercise 3"
   ]
  },
  {
   "cell_type": "markdown",
   "metadata": {},
   "source": [
    "1.While inside python, go to ~/Data/opentraveldata/ and list the files. Repeat the same for   /home/ds/Data/us_dot/otpand ~/Data/us_dot/traffic/. \n",
    "\n",
    "Use the list of visited directories from dhistand write for loop which will return for each visited directory its name and number of files inside.\n",
    "\n",
    "2.Write a function that will take text file and pattern as input parameters, and return the number of occurancesof case insensitive pattern inside a text (similar to:grep -i–o pattern file | wc-l)\n",
    "\n",
    "3.Open Finn.txt  file, read lines into a list.  Remove trailing white spaces from each line . Write the resulting list to the new file. How many lines does the new file have?  (hint: empty list is made with [ ] )\n",
    "\n",
    "4.Open Finn.txt  file, read lines into a list. Create a new version of Finn_nbl.txt with no blank lines.\n",
    "\n",
    "5.Reset the workspace. Obtain the difference in number of lines between original Finn file and andthe one without blank lines  and print the result. (hint: use wc)"
   ]
  },
  {
   "cell_type": "markdown",
   "metadata": {},
   "source": [
    "# 1"
   ]
  },
  {
   "cell_type": "code",
   "execution_count": 143,
   "metadata": {
    "scrolled": true
   },
   "outputs": [
    {
     "name": "stdout",
     "output_type": "stream",
     "text": [
      "/home/dsc\n"
     ]
    }
   ],
   "source": [
    "%cd"
   ]
  },
  {
   "cell_type": "code",
   "execution_count": 144,
   "metadata": {},
   "outputs": [
    {
     "name": "stdout",
     "output_type": "stream",
     "text": [
      "/home/dsc/Data/opentraveldata\n"
     ]
    }
   ],
   "source": [
    "%cd ~/Data/opentraveldata"
   ]
  },
  {
   "cell_type": "code",
   "execution_count": 146,
   "metadata": {},
   "outputs": [
    {
     "name": "stdout",
     "output_type": "stream",
     "text": [
      "largest_file.txt   optd_airlines.csv    ref_airline_nb_of_flights.csv  test.txt\r\n",
      "optd_aircraft.csv  optd_por_public.csv  sql_aircraft.sql\r\n"
     ]
    }
   ],
   "source": [
    "ls"
   ]
  },
  {
   "cell_type": "code",
   "execution_count": 147,
   "metadata": {},
   "outputs": [
    {
     "name": "stdout",
     "output_type": "stream",
     "text": [
      "largest_file.txt   optd_airlines.csv    ref_airline_nb_of_flights.csv  test.txt\r\n",
      "optd_aircraft.csv  optd_por_public.csv  sql_aircraft.sql\r\n"
     ]
    }
   ],
   "source": [
    "%ls"
   ]
  },
  {
   "cell_type": "code",
   "execution_count": 150,
   "metadata": {},
   "outputs": [
    {
     "name": "stdout",
     "output_type": "stream",
     "text": [
      "/home/dsc/Data/us_dot/traffic\n"
     ]
    }
   ],
   "source": [
    "%cd ~/Data/us_dot/traffic/\n"
   ]
  },
  {
   "cell_type": "code",
   "execution_count": 151,
   "metadata": {},
   "outputs": [
    {
     "name": "stdout",
     "output_type": "stream",
     "text": [
      "\u001b[0m\u001b[01;31mT100_SEGMENT_ALL_CARRIER_2014.zip\u001b[0m  \u001b[01;31mT100_SEGMENT_ALL_CARRIER_2015.zip\u001b[0m\r\n"
     ]
    }
   ],
   "source": [
    "%ls"
   ]
  },
  {
   "cell_type": "code",
   "execution_count": 152,
   "metadata": {},
   "outputs": [
    {
     "name": "stdout",
     "output_type": "stream",
     "text": [
      "Directory history (kept in _dh)\n",
      "0: /home/dsc/Repos/ClasesMaster26/Python\n",
      "1: /home/dsc\n",
      "2: /home/dsc/Data/opentraveldata\n",
      "3: /home/dsc\n",
      "4: /home/dsc/Data/us_dot/traffic\n",
      "5: /home/dsc\n",
      "6: /home/dsc/Data/opentraveldata\n",
      "7: /home/dsc/Data/us_dot/traffic\n"
     ]
    }
   ],
   "source": [
    "%dhist"
   ]
  },
  {
   "cell_type": "code",
   "execution_count": 162,
   "metadata": {
    "scrolled": true
   },
   "outputs": [
    {
     "name": "stdout",
     "output_type": "stream",
     "text": [
      "/home/dsc/Repos/ClasesMaster26/Python\n",
      "7\n",
      "/home/dsc\n",
      "23\n",
      "/home/dsc/Data/opentraveldata\n",
      "8\n",
      "/home/dsc\n",
      "23\n",
      "/home/dsc/Data/us_dot/traffic\n",
      "4\n",
      "/home/dsc\n",
      "23\n",
      "/home/dsc/Data/opentraveldata\n",
      "8\n",
      "/home/dsc/Data/us_dot/traffic\n",
      "4\n"
     ]
    }
   ],
   "source": [
    "for name in _dh:\n",
    "    print(name)\n",
    "    ! ls -l  $name| wc -l"
   ]
  },
  {
   "cell_type": "code",
   "execution_count": 163,
   "metadata": {},
   "outputs": [
    {
     "name": "stdout",
     "output_type": "stream",
     "text": [
      "/home/dsc/Repos/ClasesMaster26/Python\n",
      "/home/dsc\n",
      "/home/dsc/Data/opentraveldata\n",
      "/home/dsc\n",
      "/home/dsc/Data/us_dot/traffic\n",
      "/home/dsc\n",
      "/home/dsc/Data/opentraveldata\n",
      "/home/dsc/Data/us_dot/traffic\n"
     ]
    }
   ],
   "source": [
    "for name in _dh:\n",
    "    print(name)\n",
    "    "
   ]
  },
  {
   "cell_type": "markdown",
   "metadata": {},
   "source": [
    "# 2"
   ]
  },
  {
   "cell_type": "code",
   "execution_count": 156,
   "metadata": {},
   "outputs": [
    {
     "data": {
      "text/plain": [
       "8"
      ]
     },
     "execution_count": 156,
     "metadata": {},
     "output_type": "execute_result"
    }
   ],
   "source": [
    "def count(file, pattern):\n",
    "    \n",
    "    f = open(file)\n",
    "    \n",
    "    lines = f.readlines()\n",
    "    count = 0\n",
    "    \n",
    "    for line in lines:\n",
    "        if line.find(pattern) != -1:\n",
    "            count += 1 \n",
    "        \n",
    "    f.close()\n",
    "    return count\n",
    "\n",
    "path = '/home/dsc/Data/shell/Finn.txt'\n",
    "\n",
    "count(path, 'Huckleberry')"
   ]
  },
  {
   "cell_type": "code",
   "execution_count": 157,
   "metadata": {},
   "outputs": [
    {
     "name": "stdout",
     "output_type": "stream",
     "text": [
      "False\n",
      "True\n"
     ]
    },
    {
     "data": {
      "text/plain": [
       "100"
      ]
     },
     "execution_count": 157,
     "metadata": {},
     "output_type": "execute_result"
    }
   ],
   "source": [
    "def count(file, pattern):\n",
    "    \n",
    "    with open(file) as f: # con esto garantizo el cierre de f\n",
    "    \n",
    "        lines = f.readlines()\n",
    "        count = 0\n",
    "\n",
    "        for line in lines:\n",
    "            if pattern in line:\n",
    "                count += 1 \n",
    "        print(f.closed)  # nunca cerrado\n",
    "    print(f.closed)  # Garantizado cerrado\n",
    "    \n",
    "    return count\n",
    "\n",
    "path = '/home/dsc/Data/shell/Finn.txt'\n",
    "\n",
    "count(path, 'Huck')"
   ]
  },
  {
   "cell_type": "markdown",
   "metadata": {},
   "source": [
    "# 3"
   ]
  },
  {
   "cell_type": "code",
   "execution_count": 158,
   "metadata": {},
   "outputs": [],
   "source": [
    "f = open(path)\n",
    "lines = f.readlines()\n",
    "result = []\n",
    "\n",
    "for line in lines:\n",
    "    result.append(line.rstrip())\n",
    "    \n",
    "target = open('NewFinn.txt', 'w')\n",
    "target.writelines(result)\n",
    "target.close()"
   ]
  },
  {
   "cell_type": "code",
   "execution_count": 159,
   "metadata": {},
   "outputs": [
    {
     "name": "stdout",
     "output_type": "stream",
     "text": [
      "0 NewFinn.txt\r\n"
     ]
    }
   ],
   "source": [
    "!wc -l NewFinn.txt"
   ]
  },
  {
   "cell_type": "code",
   "execution_count": 160,
   "metadata": {},
   "outputs": [
    {
     "name": "stdout",
     "output_type": "stream",
     "text": [
      "12363 NewFinn.txt\r\n"
     ]
    }
   ],
   "source": [
    "f = open(path)\n",
    "lines = f.readlines()\n",
    "\n",
    "target = open('NewFinn.txt', 'w')\n",
    "for line in lines:\n",
    "    target.write(line.rstrip() + '\\n')\n",
    "    \n",
    "target.close()\n",
    "!wc -l NewFinn.txt"
   ]
  },
  {
   "cell_type": "code",
   "execution_count": null,
   "metadata": {},
   "outputs": [],
   "source": []
  },
  {
   "cell_type": "code",
   "execution_count": null,
   "metadata": {},
   "outputs": [],
   "source": []
  },
  {
   "cell_type": "markdown",
   "metadata": {},
   "source": [
    "# Exercise 4"
   ]
  },
  {
   "cell_type": "markdown",
   "metadata": {},
   "source": [
    "1. For a sequence [1, 2, 3, 4, 5, 6, 7, 8 ] get the squared values using the lambda function.\n",
    "\n",
    "2. Prepare a list with 10 names. Make a code that will put all vowels to capitals and every other\n",
    "character to lower letters.\n",
    "\n",
    "3. Prepare again a list with 10 names. Make a function with two input variables: list, and character; that\n",
    "returns a list of names containing one or more of input characters ’s inside the name.\n",
    "\n",
    "4. Reverse word order from the input string\n",
    "\n",
    "5. Create a function that accepts string as search string and returns number of lines with that string in a\n",
    "command history (hint : use a in b)\n",
    "\n",
    "6. Write a Python function that takes a list of words and returns the length of the longest one.\n",
    "\n",
    "\t\n"
   ]
  },
  {
   "cell_type": "markdown",
   "metadata": {},
   "source": [
    "## 1"
   ]
  },
  {
   "cell_type": "code",
   "execution_count": 1,
   "metadata": {},
   "outputs": [
    {
     "data": {
      "text/plain": [
       "[1, 2, 3, 4, 5, 6, 7, 8]"
      ]
     },
     "execution_count": 1,
     "metadata": {},
     "output_type": "execute_result"
    }
   ],
   "source": [
    "sequence = [1,2,3,4,5,6,7,8]\n",
    "sequence"
   ]
  },
  {
   "cell_type": "code",
   "execution_count": 3,
   "metadata": {},
   "outputs": [
    {
     "data": {
      "text/plain": [
       "[1, 4, 9, 16, 25, 36, 49, 64]"
      ]
     },
     "execution_count": 3,
     "metadata": {},
     "output_type": "execute_result"
    }
   ],
   "source": [
    "list(map(lambda i : i**2, sequence))"
   ]
  },
  {
   "cell_type": "markdown",
   "metadata": {},
   "source": [
    "## 2"
   ]
  },
  {
   "cell_type": "code",
   "execution_count": 4,
   "metadata": {},
   "outputs": [],
   "source": [
    "names = [\"Coco\", \"Ainhoa\", \"Iñaki\", \"Alberto\", \"Haizea\", \"Edurne\", \"María\", \"Paloma\", \"Lara\", \"Carlos\", \"Antares\"]"
   ]
  },
  {
   "cell_type": "code",
   "execution_count": 9,
   "metadata": {},
   "outputs": [
    {
     "data": {
      "text/plain": [
       "['cOcO',\n",
       " 'AInhOA',\n",
       " 'IñAkI',\n",
       " 'AlbErtO',\n",
       " 'hAIzEA',\n",
       " 'EdUrnE',\n",
       " 'mAríA',\n",
       " 'pAlOmA',\n",
       " 'lArA',\n",
       " 'cArlOs',\n",
       " 'AntArEs']"
      ]
     },
     "execution_count": 9,
     "metadata": {},
     "output_type": "execute_result"
    }
   ],
   "source": [
    "result = []\n",
    "for n in names:\n",
    "    partial_result = ''\n",
    "    \n",
    "    for letter in n:\n",
    "        if letter in 'aeiouAEIOU':\n",
    "            partial_result += letter.upper()\n",
    "        else:\n",
    "            partial_result += letter.lower()\n",
    "            \n",
    "    result.append(partial_result)# su nivel depende de cuantas veces queramos repetir este bucle\n",
    "\n",
    "#hay que hacer 2 listas para que te salga bien\n",
    "    \n",
    "result\n",
    "    "
   ]
  },
  {
   "cell_type": "code",
   "execution_count": null,
   "metadata": {},
   "outputs": [],
   "source": []
  },
  {
   "cell_type": "markdown",
   "metadata": {},
   "source": [
    "## 3"
   ]
  },
  {
   "cell_type": "code",
   "execution_count": 15,
   "metadata": {},
   "outputs": [
    {
     "data": {
      "text/plain": [
       "['Carlos', 'Antares']"
      ]
     },
     "execution_count": 15,
     "metadata": {},
     "output_type": "execute_result"
    }
   ],
   "source": [
    "result_my_filter = []\n",
    "\n",
    "def my_filter (names, character):\n",
    "\n",
    "    \n",
    "    for n in names:\n",
    "        if character in n:\n",
    "            result_my_filter.append(n)\n",
    "            \n",
    "    return result_my_filter\n",
    "\n",
    "    \n",
    "my_filter(names, 's')\n",
    "    \n",
    "    \n",
    "    "
   ]
  },
  {
   "cell_type": "code",
   "execution_count": null,
   "metadata": {},
   "outputs": [],
   "source": []
  },
  {
   "cell_type": "markdown",
   "metadata": {},
   "source": [
    "## 4"
   ]
  },
  {
   "cell_type": "code",
   "execution_count": 16,
   "metadata": {},
   "outputs": [
    {
     "data": {
      "text/plain": [
       "['Antares',\n",
       " 'Carlos',\n",
       " 'Lara',\n",
       " 'Paloma',\n",
       " 'María',\n",
       " 'Edurne',\n",
       " 'Haizea',\n",
       " 'Alberto',\n",
       " 'Iñaki',\n",
       " 'Ainhoa',\n",
       " 'Coco']"
      ]
     },
     "execution_count": 16,
     "metadata": {},
     "output_type": "execute_result"
    }
   ],
   "source": [
    "names[::-1]"
   ]
  },
  {
   "cell_type": "code",
   "execution_count": null,
   "metadata": {},
   "outputs": [],
   "source": [
    "# falta 5 y 6"
   ]
  }
 ],
 "metadata": {
  "kernelspec": {
   "display_name": "Python 3",
   "language": "python",
   "name": "python3"
  },
  "language_info": {
   "codemirror_mode": {
    "name": "ipython",
    "version": 3
   },
   "file_extension": ".py",
   "mimetype": "text/x-python",
   "name": "python",
   "nbconvert_exporter": "python",
   "pygments_lexer": "ipython3",
   "version": "3.7.1"
  }
 },
 "nbformat": 4,
 "nbformat_minor": 2
}
